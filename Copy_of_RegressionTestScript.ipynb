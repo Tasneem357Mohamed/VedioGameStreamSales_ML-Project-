{
  "nbformat": 4,
  "nbformat_minor": 0,
  "metadata": {
    "colab": {
      "provenance": [],
      "collapsed_sections": [
        "VvjGfvKYlkce",
        "xeV-F1PDDPzX",
        "r37AM0n2EVBS",
        "VORwX6bLx014",
        "iSJGsj009Mv8",
        "D0-eisr4M8FF",
        "sUsBTs86N4j3",
        "WKzFgXICSwUp",
        "RC1tTTyjVmqS",
        "TKom7_7fiXXZ"
      ]
    },
    "kernelspec": {
      "name": "python3",
      "display_name": "Python 3"
    },
    "language_info": {
      "name": "python"
    }
  },
  "cells": [
    {
      "cell_type": "code",
      "execution_count": null,
      "metadata": {
        "id": "wsM3ENz8b0ut"
      },
      "outputs": [],
      "source": [
        "# !pip install catboost"
      ]
    },
    {
      "cell_type": "code",
      "source": [
        "import ast\n",
        "import os\n",
        "import re\n",
        "import io\n",
        "import uuid\n",
        "import warnings\n",
        "import torch\n",
        "import pandas as pd\n",
        "import numpy as np\n",
        "import matplotlib.pyplot as plt\n",
        "import seaborn as sns\n",
        "from sklearn.linear_model import LinearRegression , Ridge, Lasso, ElasticNet\n",
        "from sklearn.linear_model import LogisticRegression\n",
        "from sklearn.ensemble import RandomForestRegressor\n",
        "from sklearn.ensemble import GradientBoostingRegressor\n",
        "from sklearn.preprocessing import StandardScaler\n",
        "from sklearn.neighbors import KNeighborsRegressor\n",
        "from sklearn.preprocessing import PolynomialFeatures\n",
        "from sklearn.pipeline import make_pipeline\n",
        "import lightgbm as lgb\n",
        "from xgboost import XGBRegressor\n",
        "from lightgbm import LGBMRegressor\n",
        "# from catboost import CatBoostRegressor\n",
        "from sklearn.compose import ColumnTransformer\n",
        "from sklearn.pipeline import Pipeline\n",
        "from sklearn.preprocessing import OneHotEncoder\n",
        "from sklearn.preprocessing import LabelEncoder\n",
        "from scipy.stats import f_oneway, spearmanr\n",
        "from sklearn.model_selection import train_test_split, cross_val_score, cross_validate , KFold\n",
        "from sklearn.metrics import mean_squared_error, mean_absolute_error, r2_score, accuracy_score ,explained_variance_score , mean_absolute_percentage_error\n",
        "from transformers import BertTokenizer\n",
        "from functools import reduce\n",
        "from pickle import TRUE\n",
        "from collections import Counter\n",
        "import statistics\n",
        "from sklearn.linear_model import BayesianRidge\n",
        "import xgboost as xgb\n",
        "from datetime import datetime\n",
        "from sklearn.feature_selection import RFE\n",
        "from sklearn.tree import DecisionTreeRegressor\n",
        "from sklearn.ensemble import AdaBoostRegressor\n",
        "from sklearn.svm import SVR\n",
        "warnings.filterwarnings('ignore')"
      ],
      "metadata": {
        "id": "YdEU0-kgcbjW"
      },
      "execution_count": null,
      "outputs": []
    },
    {
      "cell_type": "code",
      "source": [
        "import pickle\n",
        "import json"
      ],
      "metadata": {
        "id": "-zbtGh8ZqbSU"
      },
      "execution_count": null,
      "outputs": []
    },
    {
      "cell_type": "code",
      "source": [
        "d1 = pd.read_csv(\"/content/demos.csv\")\n",
        "d2 = pd.read_csv(\"/content/dlcs.csv\")\n",
        "d3 = pd.read_csv(\"/content/info_base_games.csv\")\n",
        "d4 = pd.read_csv(\"/content/gamalytic_steam_games_reg.csv\")"
      ],
      "metadata": {
        "id": "kMWCmVlAgbQ6"
      },
      "execution_count": null,
      "outputs": []
    },
    {
      "cell_type": "code",
      "source": [
        "if 'demo_appid' in d1.columns:\n",
        "    d1.drop(['demo_appid'], axis=1, inplace=True)\n",
        "if 'dlc_appid' in d2.columns:\n",
        "    d2.drop(['dlc_appid'], axis=1, inplace=True)\n",
        "if 'Unnamed: 0' in d1.columns:\n",
        "    d1.drop(columns=[\"Unnamed: 0\"], inplace=True)\n",
        "if 'aiContent' in d4.columns:\n",
        "  d4.drop(['aiContent'], axis=1, inplace=True)\n",
        "if 'metacritic' in d3.columns:\n",
        "  d3.drop(['metacritic'], axis=1, inplace=True)"
      ],
      "metadata": {
        "id": "BafvdtRZitEh"
      },
      "execution_count": null,
      "outputs": []
    },
    {
      "cell_type": "code",
      "source": [
        "output_file = \"/content/merged_output.csv\"\n",
        "\n",
        "d1 = d1.rename(columns={\"full_game_appid\": \"ID\"})\n",
        "d2 = d2.rename(columns={\"base_appid\": \"ID\"})\n",
        "d3 = d3.rename(columns={\"steam_appid\": \"ID\"})\n",
        "d4 = d4.rename(columns={\"steamId\": \"ID\"})\n",
        "\n",
        "d1['ID'] = d1['ID'].astype(str)\n",
        "d2['ID'] = d2['ID'].astype(str)\n",
        "d3['ID'] = d3['ID'].astype(str)\n",
        "d4['ID'] = d4['ID'].astype(str)\n",
        "\n",
        "\n",
        "if not all('ID' in df.columns for df in [d1, d2, d3, d4]):\n",
        "    raise ValueError(\"One or more files are missing the 'ID' column after renaming\")\n",
        "\n",
        "\n",
        "print(\"ID dtypes:\", d1['ID'].dtype, d2['ID'].dtype, d3['ID'].dtype, d4['ID'].dtype)\n",
        "\n",
        "\n",
        "merged_df = d4.merge(d1, on='ID', how='outer', suffixes=('_d4', '_d1'))\n",
        "merged_df = merged_df.merge(d2, on='ID', how='outer', suffixes=('_prev', '_d2'))\n",
        "merged_df = merged_df.merge(d3, on='ID', how='outer', suffixes=('_prev', '_d3'))\n",
        "\n",
        "\n",
        "print(\"Rows in merged_df:\", len(merged_df))\n",
        "print(\"Columns in merged_df:\", merged_df.columns)\n",
        "\n",
        "\n",
        "os.makedirs(os.path.dirname(output_file), exist_ok=True)\n",
        "print(\"Saving to:\", output_file)\n",
        "\n",
        "merged_df.to_csv(output_file, index=False)\n",
        "print(f\"Successfully merged files into {output_file}\")\n",
        "print(\"File exists after save:\", os.path.exists(output_file))"
      ],
      "metadata": {
        "colab": {
          "base_uri": "https://localhost:8080/"
        },
        "id": "VMvEEF3Pis8t",
        "outputId": "d2a1c15e-235c-4df3-c003-fddd237e4baa"
      },
      "execution_count": null,
      "outputs": [
        {
          "output_type": "stream",
          "name": "stdout",
          "text": [
            "ID dtypes: object object object object\n",
            "Rows in merged_df: 5759\n",
            "Columns in merged_df: Index(['ID', 'price', 'copiesSold', 'publisherClass', 'reviewScore',\n",
            "       'name_prev', 'name_d2', 'name', 'steam_achievements',\n",
            "       'steam_trading_cards', 'workshop_support', 'genres',\n",
            "       'achievements_total', 'release_date', 'supported_platforms'],\n",
            "      dtype='object')\n",
            "Saving to: /content/merged_output.csv\n",
            "Successfully merged files into /content/merged_output.csv\n",
            "File exists after save: True\n"
          ]
        }
      ]
    },
    {
      "cell_type": "code",
      "source": [
        "df = pd.read_csv(\"/content/merged_output.csv\")"
      ],
      "metadata": {
        "id": "zU3oDXX7is52"
      },
      "execution_count": null,
      "outputs": []
    },
    {
      "cell_type": "code",
      "source": [
        "df = df.drop_duplicates(subset='ID', keep='first')"
      ],
      "metadata": {
        "id": "nBEo0bz9XrKr"
      },
      "execution_count": null,
      "outputs": []
    },
    {
      "cell_type": "code",
      "source": [
        "cols_to_drop = [col for col in ['ID', 'name'] if col in df.columns]\n",
        "df = df.drop(cols_to_drop, axis=1)"
      ],
      "metadata": {
        "id": "nZoswp54isyF"
      },
      "execution_count": null,
      "outputs": []
    },
    {
      "cell_type": "code",
      "source": [
        "df.shape"
      ],
      "metadata": {
        "colab": {
          "base_uri": "https://localhost:8080/"
        },
        "id": "2m4avQQBRUk3",
        "outputId": "2ab71a2d-aa5f-4df2-eaf7-40abb47fd00c"
      },
      "execution_count": null,
      "outputs": [
        {
          "output_type": "execute_result",
          "data": {
            "text/plain": [
              "(3343, 13)"
            ]
          },
          "metadata": {},
          "execution_count": 186
        }
      ]
    },
    {
      "cell_type": "code",
      "source": [
        "if 'name_prev' in df.columns:\n",
        "    df.drop(['name_prev'], axis=1, inplace=True)\n",
        "if 'name_d2' in df.columns:\n",
        "    df.drop(['name_d2'], axis=1, inplace=True)"
      ],
      "metadata": {
        "id": "ob3Icoguj-hN"
      },
      "execution_count": null,
      "outputs": []
    },
    {
      "cell_type": "code",
      "source": [
        "with open('imputation_values.pkl', 'rb') as f:\n",
        "    imputation_values = pickle.load(f)"
      ],
      "metadata": {
        "id": "eRzyS5ETD1a8"
      },
      "execution_count": null,
      "outputs": []
    },
    {
      "cell_type": "code",
      "source": [
        "def find_columns_with_matching_values(df):\n",
        "    matching_columns = []\n",
        "    for column in df.columns:\n",
        "        if any(df[column].astype(str) == str(column)):\n",
        "            matching_columns.append(column)\n",
        "\n",
        "    return matching_columns\n",
        "\n",
        "train_matching_columns = find_columns_with_matching_values(df)\n",
        "train_matching_columns"
      ],
      "metadata": {
        "colab": {
          "base_uri": "https://localhost:8080/"
        },
        "id": "2Z_VmBwdlEDS",
        "outputId": "ada64ba9-b649-4632-ba0f-6c967ed06054"
      },
      "execution_count": null,
      "outputs": [
        {
          "output_type": "execute_result",
          "data": {
            "text/plain": [
              "[]"
            ]
          },
          "metadata": {},
          "execution_count": 189
        }
      ]
    },
    {
      "cell_type": "code",
      "source": [
        "for column in train_matching_columns:\n",
        "    df.loc[df[column].astype(str) == str(column), column] = np.nan"
      ],
      "metadata": {
        "id": "hxDZrXrZlb38"
      },
      "execution_count": null,
      "outputs": []
    },
    {
      "cell_type": "code",
      "source": [
        "df.shape"
      ],
      "metadata": {
        "colab": {
          "base_uri": "https://localhost:8080/"
        },
        "id": "l_qmMvGNRWBY",
        "outputId": "e89b08e2-1fd2-436b-fa51-eeb6ecea893e"
      },
      "execution_count": null,
      "outputs": [
        {
          "output_type": "execute_result",
          "data": {
            "text/plain": [
              "(3343, 11)"
            ]
          },
          "metadata": {},
          "execution_count": 191
        }
      ]
    },
    {
      "cell_type": "markdown",
      "source": [
        "# Test the testscript"
      ],
      "metadata": {
        "id": "VvjGfvKYlkce"
      }
    },
    {
      "cell_type": "code",
      "source": [],
      "metadata": {
        "id": "xCXbLSAkSkQY"
      },
      "execution_count": null,
      "outputs": []
    },
    {
      "cell_type": "code",
      "source": [
        "# train_data, test_data = train_test_split(df, test_size=0.2, random_state=42)\n",
        "\n",
        "# train_data.to_csv('train_data.csv', index=False)\n",
        "# test_data.to_csv('test_data.csv', index=False)"
      ],
      "metadata": {
        "id": "HvgGh4yylgKl"
      },
      "execution_count": null,
      "outputs": []
    },
    {
      "cell_type": "code",
      "source": [
        "# train = pd.read_csv(\"/content/train_data.csv\")\n",
        "# test  = pd.read_csv(\"/content/test_data.csv\")"
      ],
      "metadata": {
        "id": "qPh4PkIdnjhR"
      },
      "execution_count": null,
      "outputs": []
    },
    {
      "cell_type": "code",
      "source": [
        "test = df.copy()"
      ],
      "metadata": {
        "id": "IGuJJzoimKmO"
      },
      "execution_count": null,
      "outputs": []
    },
    {
      "cell_type": "markdown",
      "source": [
        "# Handling Outliers"
      ],
      "metadata": {
        "id": "xeV-F1PDDPzX"
      }
    },
    {
      "cell_type": "code",
      "source": [
        "test_numerical_columns = test.select_dtypes(include=['int64', 'float64', 'int32', 'float32']).columns.tolist()\n",
        "print(test_numerical_columns)"
      ],
      "metadata": {
        "colab": {
          "base_uri": "https://localhost:8080/"
        },
        "id": "o3Z30uUyloGV",
        "outputId": "3666fda9-dc81-4f6b-8016-5ac692430077"
      },
      "execution_count": null,
      "outputs": [
        {
          "output_type": "stream",
          "name": "stdout",
          "text": [
            "['price', 'copiesSold', 'reviewScore', 'achievements_total']\n"
          ]
        }
      ]
    },
    {
      "cell_type": "code",
      "source": [
        "with open('outliers_handling.pkl', 'rb') as f:\n",
        "    loaded_outliers_handling = pickle.load(f)"
      ],
      "metadata": {
        "id": "nIQGwzyMqSji"
      },
      "execution_count": null,
      "outputs": []
    },
    {
      "cell_type": "code",
      "source": [
        "def handle_outliers_iqr(test_df, column):\n",
        "    lower_bound = loaded_outliers_handling[column]['lower_bound']\n",
        "    upper_bound = loaded_outliers_handling[column]['upper_bound']\n",
        "    test_df[column] = np.where(test_df[column] < lower_bound, lower_bound, test_df[column])\n",
        "    test_df[column] = np.where(test_df[column] > upper_bound, upper_bound, test_df[column])\n",
        "    return test_df"
      ],
      "metadata": {
        "id": "ERxlFGaHnlLc"
      },
      "execution_count": null,
      "outputs": []
    },
    {
      "cell_type": "code",
      "source": [
        "for col in test_numerical_columns:\n",
        "  if col in test.columns:\n",
        "    test = handle_outliers_iqr(test.copy(), col)\n",
        "    print(\"\\nTest data after IQR-based outlier handling:\")\n",
        "    print(test[col].describe())"
      ],
      "metadata": {
        "colab": {
          "base_uri": "https://localhost:8080/"
        },
        "collapsed": true,
        "id": "KOAQlTMgq0uG",
        "outputId": "7129e6e0-9323-4c4b-abab-d1f8e32e1105"
      },
      "execution_count": null,
      "outputs": [
        {
          "output_type": "stream",
          "name": "stdout",
          "text": [
            "\n",
            "Test data after IQR-based outlier handling:\n",
            "count    3343.000000\n",
            "mean        4.591789\n",
            "std         3.157814\n",
            "min         0.000000\n",
            "25%         0.990000\n",
            "50%         4.990000\n",
            "75%         7.990000\n",
            "max         7.990000\n",
            "Name: price, dtype: float64\n",
            "\n",
            "Test data after IQR-based outlier handling:\n",
            "count    3343.000000\n",
            "mean      602.048908\n",
            "std       476.413411\n",
            "min         1.000000\n",
            "25%        77.000000\n",
            "50%       616.000000\n",
            "75%      1098.500000\n",
            "max      1098.500000\n",
            "Name: copiesSold, dtype: float64\n",
            "\n",
            "Test data after IQR-based outlier handling:\n",
            "count    3343.000000\n",
            "mean       72.285791\n",
            "std         6.836084\n",
            "min        62.181359\n",
            "25%        62.181359\n",
            "50%        77.697734\n",
            "75%        77.697734\n",
            "max        77.697734\n",
            "Name: reviewScore, dtype: float64\n",
            "\n",
            "Test data after IQR-based outlier handling:\n",
            "count    1851.0\n",
            "mean       18.0\n",
            "std         0.0\n",
            "min        18.0\n",
            "25%        18.0\n",
            "50%        18.0\n",
            "75%        18.0\n",
            "max        18.0\n",
            "Name: achievements_total, dtype: float64\n"
          ]
        }
      ]
    },
    {
      "cell_type": "markdown",
      "source": [
        "# Numerical Columns"
      ],
      "metadata": {
        "id": "r37AM0n2EVBS"
      }
    },
    {
      "cell_type": "code",
      "source": [
        "test_numerical_columns = test.select_dtypes(include=['int64', 'float64', 'int32', 'float32']).columns.tolist()"
      ],
      "metadata": {
        "id": "MVlZGHWmEW2A"
      },
      "execution_count": null,
      "outputs": []
    },
    {
      "cell_type": "code",
      "source": [
        "skew_threshold = 0.5\n",
        "for col in test_numerical_columns:\n",
        "  if col in test.columns and col in imputation_values:\n",
        "    if test[col].skew() > skew_threshold:\n",
        "        test[col].fillna(imputation_values[col], inplace=True)\n",
        "    else:\n",
        "        test[col].fillna(imputation_values[col], inplace=True)"
      ],
      "metadata": {
        "id": "lijZcAtuEeOO"
      },
      "execution_count": null,
      "outputs": []
    },
    {
      "cell_type": "markdown",
      "source": [
        "# Date Column"
      ],
      "metadata": {
        "id": "VORwX6bLx014"
      }
    },
    {
      "cell_type": "code",
      "source": [
        "if 'release_date' in test.columns:\n",
        "    if test['release_date'].isin(['Coming soon', 'To be announced']).any():\n",
        "        test['release_date'] = test['release_date'].replace(['Coming soon', 'To be announced'], '')"
      ],
      "metadata": {
        "id": "rF5lyOGFqTJJ"
      },
      "execution_count": null,
      "outputs": []
    },
    {
      "cell_type": "code",
      "source": [
        "def remove_future_dates(cell):\n",
        "    result = cell\n",
        "    if pd.isna(cell):\n",
        "        return result\n",
        "    try:\n",
        "        cell_str = str(cell).strip()\n",
        "        if re.fullmatch(r'^[A-Za-z]{3} \\d{1,2}, \\d{4}$', cell_str):\n",
        "            cell_date = datetime.strptime(cell_str, '%b %d, %Y')\n",
        "            if cell_date > pd.Timestamp(\"2025-12-31\"):\n",
        "                result = \"\"\n",
        "            else:\n",
        "                result = cell_date.strftime('%b %d, %Y')\n",
        "    except (ValueError, TypeError):\n",
        "        pass\n",
        "    return result"
      ],
      "metadata": {
        "id": "NKhC-5E2xY7A"
      },
      "execution_count": null,
      "outputs": []
    },
    {
      "cell_type": "code",
      "source": [
        "for i, row in test.iterrows():\n",
        "    cell = row['release_date']\n",
        "    new_cell = remove_future_dates(cell)\n",
        "    test.at[i, 'release_date'] = new_cell"
      ],
      "metadata": {
        "id": "axomX_1xxrvr"
      },
      "execution_count": null,
      "outputs": []
    },
    {
      "cell_type": "code",
      "source": [
        "def check_no_future(cell):\n",
        "    result = cell\n",
        "    counter = 0\n",
        "    if pd.isna(cell):\n",
        "        return result\n",
        "    try:\n",
        "        cell_str = str(cell).strip()\n",
        "        if re.fullmatch(r'^[A-Za-z]{3} \\d{1,2}, \\d{4}$', cell_str):\n",
        "            cell_date = datetime.strptime(cell_str, '%b %d, %Y')\n",
        "            if cell_date > pd.Timestamp(\"2025-12-31\"):\n",
        "              result = \"Future Exist\"\n",
        "    except (ValueError, TypeError):\n",
        "        pass\n",
        "    return result"
      ],
      "metadata": {
        "id": "RKrN4mIwxttQ"
      },
      "execution_count": null,
      "outputs": []
    },
    {
      "cell_type": "code",
      "source": [
        "counter1 = 0\n",
        "for i,row in test.iterrows():\n",
        "    cell = row['release_date']\n",
        "    new_cell = check_no_future(cell)\n",
        "    if new_cell == \"Future Exist\":\n",
        "      counter1 +=1\n",
        "print(counter1)"
      ],
      "metadata": {
        "colab": {
          "base_uri": "https://localhost:8080/"
        },
        "id": "f0TWxhhpxvfm",
        "outputId": "bcd4eb18-2a9a-4728-f85b-9593dad77434"
      },
      "execution_count": null,
      "outputs": [
        {
          "output_type": "stream",
          "name": "stdout",
          "text": [
            "0\n"
          ]
        }
      ]
    },
    {
      "cell_type": "code",
      "source": [
        "pattern = r'Q\\d \\d{4}'"
      ],
      "metadata": {
        "id": "R_IEUJaAxw0B"
      },
      "execution_count": null,
      "outputs": []
    },
    {
      "cell_type": "code",
      "source": [
        "count = test['release_date'].str.contains(pattern, regex=True).sum()"
      ],
      "metadata": {
        "id": "r4Griv4ax4OH"
      },
      "execution_count": null,
      "outputs": []
    },
    {
      "cell_type": "code",
      "source": [
        "regex_pattern = r'Q\\d (\\d{4})'\n",
        "test['release_date'] = test['release_date'].replace(to_replace=regex_pattern, value=r'\\g<1>', regex=True)"
      ],
      "metadata": {
        "id": "V4kR3zhUx8gm"
      },
      "execution_count": null,
      "outputs": []
    },
    {
      "cell_type": "code",
      "source": [
        "with open('mode_date_value.pkl', 'rb') as f:\n",
        "    loaded_mode_date = pickle.load(f)"
      ],
      "metadata": {
        "id": "t3yNMM8uywuo"
      },
      "execution_count": null,
      "outputs": []
    },
    {
      "cell_type": "code",
      "source": [
        "import pandas as pd\n",
        "import re\n",
        "from datetime import datetime\n",
        "\n",
        "def replace_missing_date(mode_date, cell):\n",
        "    if pd.isna(cell) or str(cell).strip() == '':\n",
        "        return mode_date\n",
        "\n",
        "    cell = str(cell).strip()\n",
        "    mode_date_dt = datetime.strptime(mode_date, \"%b %d, %Y\")\n",
        "    if re.fullmatch(r'^(?:[1-9]|[12]\\d|3[01])$', cell):\n",
        "        return mode_date_dt.strftime(\"%b \") + f\"{int(cell):02d}\" + \", \" + mode_date_dt.strftime(\"%Y\")\n",
        "    elif re.fullmatch(r'^\\d{4}$', cell):\n",
        "        return mode_date_dt.strftime(\"%b \") + mode_date_dt.strftime(\"%d\").lstrip('0') + \", \" + cell\n",
        "    elif re.fullmatch(r'^(Jan|Feb|Mar|Apr|May|Jun|Jul|Aug|Sep|Oct|Nov|Dec)$', cell):\n",
        "        return cell + \" \" + mode_date_dt.strftime(\"%d\").lstrip('0') + \", \" + mode_date_dt.strftime(\"%Y\")\n",
        "    elif re.fullmatch(r'^(Jan|Feb|Mar|Apr|May|Jun|Jul|Aug|Sep|Oct|Nov|Dec), \\d{4}$', cell):\n",
        "        return cell.split(\", \")[0] + \" \" + mode_date_dt.strftime(\"%d\").lstrip('0') + \", \" + cell.split(\", \")[1]\n",
        "    elif re.fullmatch(r'^(Jan|Feb|Mar|Apr|May|Jun|Jul|Aug|Sep|Oct|Nov|Dec) (?:[1-9]|[12]\\d|3[01])$', cell):\n",
        "        month, day = cell.split(\" \")\n",
        "        return month + \" \" + f\"{int(day):02d}\" + \", \" + mode_date_dt.strftime(\"%Y\")\n",
        "    elif re.fullmatch(r'^(?:[1-9]|[12]\\d|3[01]), \\d{4}$', cell):\n",
        "        day = cell.split(\", \")[0]\n",
        "        return mode_date_dt.strftime(\"%b \") + f\"{int(day):02d}\" + \", \" + cell.split(\", \")[1]\n",
        "    elif re.fullmatch(r'^(Jan|Feb|Mar|Apr|May|Jun|Jul|Aug|Sep|Oct|Nov|Dec) (?:[1-9]|[12]\\d|3[01]), \\d{4}$', cell):\n",
        "        try:\n",
        "            parsed_date = datetime.strptime(cell, \"%b %d, %Y\")\n",
        "            return parsed_date.strftime(\"%b %d, %Y\")\n",
        "        except ValueError:\n",
        "            return mode_date\n",
        "    else:\n",
        "        return mode_date"
      ],
      "metadata": {
        "id": "eUsphCFD44hV"
      },
      "execution_count": null,
      "outputs": []
    },
    {
      "cell_type": "code",
      "source": [
        "test_date = loaded_mode_date\n",
        "for i, row in test.iterrows():\n",
        "    cell = row['release_date']\n",
        "    new_cell = replace_missing_date(test_date , cell)\n",
        "    test.at[i, 'release_date'] = new_cell"
      ],
      "metadata": {
        "id": "O_mmRDYOyoTH"
      },
      "execution_count": null,
      "outputs": []
    },
    {
      "cell_type": "code",
      "source": [
        "test['release_date'] = pd.to_datetime(test['release_date'], format='%b %d, %Y', errors='coerce')"
      ],
      "metadata": {
        "id": "TDmEMfHM5AmE"
      },
      "execution_count": null,
      "outputs": []
    },
    {
      "cell_type": "code",
      "source": [
        "test['release_date'].fillna(loaded_mode_date, inplace=True)"
      ],
      "metadata": {
        "id": "Ty9vLbSH5Tdu"
      },
      "execution_count": null,
      "outputs": []
    },
    {
      "cell_type": "code",
      "source": [
        "test['timestamp'] = test['release_date'].astype('int64')"
      ],
      "metadata": {
        "id": "DiJYe0bN5cwG"
      },
      "execution_count": null,
      "outputs": []
    },
    {
      "cell_type": "code",
      "source": [
        "test.drop('release_date', axis=1, inplace=True)"
      ],
      "metadata": {
        "id": "UeVjm9pH8dvd"
      },
      "execution_count": null,
      "outputs": []
    },
    {
      "cell_type": "markdown",
      "source": [
        "# Boolean Columns"
      ],
      "metadata": {
        "id": "iSJGsj009Mv8"
      }
    },
    {
      "cell_type": "code",
      "source": [
        "Boolean_columns1 = []\n",
        "\n",
        "for col in test.columns:\n",
        "    if test[col].apply(lambda x: isinstance(x, bool)).any():\n",
        "        Boolean_columns1.append(col)\n",
        "\n",
        "print(\"Boolean columns in test Data:\", Boolean_columns1)"
      ],
      "metadata": {
        "colab": {
          "base_uri": "https://localhost:8080/"
        },
        "id": "WTsniElA800K",
        "outputId": "ed625fbd-b7ca-490a-f0f7-2d965ce5cc61"
      },
      "execution_count": null,
      "outputs": [
        {
          "output_type": "stream",
          "name": "stdout",
          "text": [
            "Boolean columns in test Data: ['steam_achievements', 'steam_trading_cards', 'workshop_support']\n"
          ]
        }
      ]
    },
    {
      "cell_type": "code",
      "source": [
        "for col in Boolean_columns1:\n",
        "    if col in test.columns and col in imputation_values:\n",
        "        test[col] = test[col].fillna(imputation_values[col])"
      ],
      "metadata": {
        "id": "JJ0rqduJ935U"
      },
      "execution_count": null,
      "outputs": []
    },
    {
      "cell_type": "code",
      "source": [
        "for col in Boolean_columns1:\n",
        "    if col in test.columns:\n",
        "        test[col] = test[col].astype(int)"
      ],
      "metadata": {
        "id": "3njoYbZh9Ian"
      },
      "execution_count": null,
      "outputs": []
    },
    {
      "cell_type": "code",
      "source": [
        "df.shape"
      ],
      "metadata": {
        "colab": {
          "base_uri": "https://localhost:8080/"
        },
        "id": "8oOmm2qeRXoH",
        "outputId": "3dd66f0e-ddac-472c-d341-5afeccc7e993"
      },
      "execution_count": null,
      "outputs": [
        {
          "output_type": "execute_result",
          "data": {
            "text/plain": [
              "(3343, 11)"
            ]
          },
          "metadata": {},
          "execution_count": 219
        }
      ]
    },
    {
      "cell_type": "markdown",
      "source": [
        "# Categorical Columns"
      ],
      "metadata": {
        "id": "DlI8_Db5-CW4"
      }
    },
    {
      "cell_type": "code",
      "source": [
        "def get_categorical_columns(df, threshold=10):\n",
        "    categorical_columns = []\n",
        "    for col in df.columns:\n",
        "        if not np.issubdtype(df[col].dtype, np.datetime64):\n",
        "            if df[col].dtype == 'object':\n",
        "                categorical_columns.append(col)\n",
        "    return categorical_columns"
      ],
      "metadata": {
        "id": "0AwtM0G6-ED_"
      },
      "execution_count": null,
      "outputs": []
    },
    {
      "cell_type": "code",
      "source": [
        "categorical_columns1 = get_categorical_columns(test, threshold=10)\n",
        "print(\"Categorical Columns:\", categorical_columns1)"
      ],
      "metadata": {
        "colab": {
          "base_uri": "https://localhost:8080/"
        },
        "id": "tyecvWry-EjN",
        "outputId": "a57e82cb-c22e-4463-f897-01ce3645c059"
      },
      "execution_count": null,
      "outputs": [
        {
          "output_type": "stream",
          "name": "stdout",
          "text": [
            "Categorical Columns: ['publisherClass', 'genres', 'supported_platforms']\n"
          ]
        }
      ]
    },
    {
      "cell_type": "code",
      "source": [
        "#In Test Data\n",
        "for col in categorical_columns1:\n",
        "  te_null_percentage = (test[col].isnull().sum() / len(test)) * 100\n",
        "  print(f\"In Test Data --> Column {col}: {te_null_percentage:.2f}% null values\")"
      ],
      "metadata": {
        "colab": {
          "base_uri": "https://localhost:8080/"
        },
        "id": "lPl8DRd8Il4k",
        "outputId": "b159cc7a-8d61-486a-fefc-f1392b0d776a"
      },
      "execution_count": null,
      "outputs": [
        {
          "output_type": "stream",
          "name": "stdout",
          "text": [
            "In Test Data --> Column publisherClass: 0.00% null values\n",
            "In Test Data --> Column genres: 0.24% null values\n",
            "In Test Data --> Column supported_platforms: 0.00% null values\n"
          ]
        }
      ]
    },
    {
      "cell_type": "code",
      "source": [
        "most_common = imputation_values['genres']\n",
        "test['genres'] = test['genres'].fillna(most_common)"
      ],
      "metadata": {
        "id": "sGXy-F1RIl2H"
      },
      "execution_count": null,
      "outputs": []
    },
    {
      "cell_type": "code",
      "source": [
        "most_common = imputation_values['supported_platforms']\n",
        "test['supported_platforms'] = test['supported_platforms'].fillna(most_common)"
      ],
      "metadata": {
        "id": "Gvsu-1kMJHPV"
      },
      "execution_count": null,
      "outputs": []
    },
    {
      "cell_type": "code",
      "source": [
        "mode_value = imputation_values['publisherClass']\n",
        "test['publisherClass'].fillna(mode_value, inplace=True)"
      ],
      "metadata": {
        "id": "GAYitqgnJNP0"
      },
      "execution_count": null,
      "outputs": []
    },
    {
      "cell_type": "code",
      "source": [
        "df.shape"
      ],
      "metadata": {
        "colab": {
          "base_uri": "https://localhost:8080/"
        },
        "id": "0530FaxhRZCp",
        "outputId": "b9348458-bf48-42a7-c946-94775cc39408"
      },
      "execution_count": null,
      "outputs": [
        {
          "output_type": "execute_result",
          "data": {
            "text/plain": [
              "(3343, 11)"
            ]
          },
          "metadata": {},
          "execution_count": 226
        }
      ]
    },
    {
      "cell_type": "markdown",
      "source": [
        "# Encoding Features"
      ],
      "metadata": {
        "id": "quo15QZ1KeF5"
      }
    },
    {
      "cell_type": "markdown",
      "source": [
        "### Encoding Genres"
      ],
      "metadata": {
        "id": "D0-eisr4M8FF"
      }
    },
    {
      "cell_type": "code",
      "source": [
        "with open('mlb_genres.pkl', 'rb') as f:\n",
        "    mlb_genres = pickle.load(f)"
      ],
      "metadata": {
        "id": "XA_VWlh2Jb16"
      },
      "execution_count": null,
      "outputs": []
    },
    {
      "cell_type": "code",
      "source": [
        "test['genres_list'] = test['genres'].str.split(',\\s*')\n",
        "known_genres = set(mlb_genres.classes_)\n",
        "replacement_genres = imputation_values['genres']\n",
        "def replace_if_unknown(genres):\n",
        "    if any(g not in known_genres for g in genres):\n",
        "        return replacement_genres\n",
        "    return genres\n",
        "\n",
        "test['genres_list'] = test['genres_list'].apply(replace_if_unknown)\n",
        "genres_encoded_test = mlb_genres.transform(test['genres_list'])\n",
        "genres_df_test = pd.DataFrame(genres_encoded_test, columns=mlb_genres.classes_, index=test.index)\n",
        "test = pd.concat([test, genres_df_test], axis=1)\n",
        "test = test.drop(['genres', 'genres_list'], axis=1)"
      ],
      "metadata": {
        "id": "l338ofdSJbzV"
      },
      "execution_count": null,
      "outputs": []
    },
    {
      "cell_type": "markdown",
      "source": [
        "### Encoding Suported Platforms"
      ],
      "metadata": {
        "id": "sUsBTs86N4j3"
      }
    },
    {
      "cell_type": "code",
      "source": [
        "with open('mlb_platforms.pkl', 'rb') as f:\n",
        "    mlb_platforms = pickle.load(f)"
      ],
      "metadata": {
        "id": "b7kT7Xx0RB1o"
      },
      "execution_count": null,
      "outputs": []
    },
    {
      "cell_type": "code",
      "source": [
        "test['supported_platforms'] = test['supported_platforms'].apply(lambda x: eval(x) if isinstance(x, str) else x)\n",
        "known_platforms = set(mlb_platforms.classes_)\n",
        "fallback_platforms = ['Windows', 'Linux']  # Must exist in training data\n",
        "\n",
        "def replace_unknown_platforms(platform_list):\n",
        "    if any(p not in known_platforms for p in platform_list):\n",
        "        return fallback_platforms\n",
        "    return platform_list\n",
        "\n",
        "test['supported_platforms'] = test['supported_platforms'].apply(replace_unknown_platforms)\n",
        "encoded_platforms_test = mlb_platforms.transform(test['supported_platforms'])\n",
        "encoded_df_test = pd.DataFrame(encoded_platforms_test, columns=mlb_platforms.classes_, index=test.index)\n",
        "\n",
        "# Update test DataFrame\n",
        "test = pd.concat([test.drop('supported_platforms', axis=1), encoded_df_test], axis=1)"
      ],
      "metadata": {
        "id": "AfzTmCouNHFg"
      },
      "execution_count": null,
      "outputs": []
    },
    {
      "cell_type": "markdown",
      "source": [
        "### Encoding Publisher Class"
      ],
      "metadata": {
        "id": "WKzFgXICSwUp"
      }
    },
    {
      "cell_type": "code",
      "source": [
        "with open('encoder_publisher.pkl', 'rb') as f:\n",
        "    encoder_publisher = pickle.load(f)"
      ],
      "metadata": {
        "id": "keDPu9uuTRit"
      },
      "execution_count": null,
      "outputs": []
    },
    {
      "cell_type": "code",
      "source": [
        "fallback_label = imputation_values['publisherClass']\n",
        "test['publisherClass'] = test['publisherClass'].apply(\n",
        "    lambda x: x if x in encoder_publisher.classes_ else fallback_label\n",
        ")\n",
        "test['publisherClass_encoded'] = encoder_publisher.transform(test['publisherClass'])\n",
        "test = test.drop('publisherClass', axis=1)"
      ],
      "metadata": {
        "id": "DCk2FPqANHDI"
      },
      "execution_count": null,
      "outputs": []
    },
    {
      "cell_type": "code",
      "source": [
        "test.shape"
      ],
      "metadata": {
        "colab": {
          "base_uri": "https://localhost:8080/"
        },
        "id": "9cy4eKRgRa1-",
        "outputId": "bcef33ca-ed7c-4691-979a-fd9a5dea3195"
      },
      "execution_count": null,
      "outputs": [
        {
          "output_type": "execute_result",
          "data": {
            "text/plain": [
              "(3343, 15)"
            ]
          },
          "metadata": {},
          "execution_count": 233
        }
      ]
    },
    {
      "cell_type": "code",
      "source": [
        "df.shape"
      ],
      "metadata": {
        "colab": {
          "base_uri": "https://localhost:8080/"
        },
        "id": "Ud9ioj0uRcm9",
        "outputId": "9b0a27ef-bcae-4218-89ab-e6190a497deb"
      },
      "execution_count": null,
      "outputs": [
        {
          "output_type": "execute_result",
          "data": {
            "text/plain": [
              "(3343, 11)"
            ]
          },
          "metadata": {},
          "execution_count": 234
        }
      ]
    },
    {
      "cell_type": "markdown",
      "source": [
        "# Preparing for testing"
      ],
      "metadata": {
        "id": "RC1tTTyjVmqS"
      }
    },
    {
      "cell_type": "code",
      "source": [
        "df.shape"
      ],
      "metadata": {
        "colab": {
          "base_uri": "https://localhost:8080/"
        },
        "id": "5mt7L2QXR2sN",
        "outputId": "e5f79243-ccd9-4136-8638-e420f141564b"
      },
      "execution_count": null,
      "outputs": [
        {
          "output_type": "execute_result",
          "data": {
            "text/plain": [
              "(3343, 11)"
            ]
          },
          "metadata": {},
          "execution_count": 235
        }
      ]
    },
    {
      "cell_type": "code",
      "source": [
        "X_test = test.drop(columns=['copiesSold'])\n",
        "y_test = test['copiesSold']"
      ],
      "metadata": {
        "id": "FXtyvtyYNHAx"
      },
      "execution_count": null,
      "outputs": []
    },
    {
      "cell_type": "code",
      "source": [
        "X_test.shape"
      ],
      "metadata": {
        "colab": {
          "base_uri": "https://localhost:8080/"
        },
        "id": "mQAIdwpLRn2_",
        "outputId": "bac6e360-a56d-4aa9-ac9c-3bc8f5e22e8d"
      },
      "execution_count": null,
      "outputs": [
        {
          "output_type": "execute_result",
          "data": {
            "text/plain": [
              "(3343, 14)"
            ]
          },
          "metadata": {},
          "execution_count": 237
        }
      ]
    },
    {
      "cell_type": "code",
      "source": [
        "with open('selected_features.json', 'r') as f:\n",
        "    selected_features = json.load(f)\n",
        "\n",
        "X_test = X_test[selected_features]"
      ],
      "metadata": {
        "id": "pUI6TkPiUwyk"
      },
      "execution_count": null,
      "outputs": []
    },
    {
      "cell_type": "markdown",
      "source": [
        "# LightGBM Test"
      ],
      "metadata": {
        "id": "i7uVh_upVipj"
      }
    },
    {
      "cell_type": "code",
      "source": [
        "bst = lgb.Booster(model_file='lightgbm_model.txt')"
      ],
      "metadata": {
        "id": "A3pceVh0U7n2"
      },
      "execution_count": null,
      "outputs": []
    },
    {
      "cell_type": "code",
      "source": [
        "y_test_pred = bst.predict(X_test, num_iteration=bst.best_iteration)"
      ],
      "metadata": {
        "id": "-0ZY4Hx8WMoK"
      },
      "execution_count": null,
      "outputs": []
    },
    {
      "cell_type": "code",
      "source": [
        "y_pred = bst.predict(X_test, num_iteration=bst.best_iteration)\n",
        "mse = mean_squared_error(y_test, y_pred)\n",
        "rmse = np.sqrt(mse)\n",
        "r2 = r2_score(y_test, y_pred)\n",
        "mae = mean_absolute_error(y_test, y_pred)\n",
        "mape = np.mean(np.abs((y_test - y_pred) / np.where(y_test != 0, y_test, 1))) * 100\n",
        "\n",
        "print(f\"Test RMSE (simplified model): {rmse:.4f}\")\n",
        "print(f\"Test R2 Score (simplified model): {r2*100:.2f}%\")\n",
        "print(f\"Test MAE (simplified model): {mae:.4f}\")\n",
        "print(f\"Test MAPE (simplified model): {mape:.2f}%\")"
      ],
      "metadata": {
        "colab": {
          "base_uri": "https://localhost:8080/"
        },
        "id": "Kr0h_EdGWOzm",
        "outputId": "824675f6-df32-4913-f737-57929586bb9b"
      },
      "execution_count": null,
      "outputs": [
        {
          "output_type": "stream",
          "name": "stdout",
          "text": [
            "Test RMSE (simplified model): 341.1656\n",
            "Test R2 Score (simplified model): 48.70%\n",
            "Test MAE (simplified model): 274.4260\n",
            "Test MAPE (simplified model): 2048.58%\n"
          ]
        }
      ]
    },
    {
      "cell_type": "code",
      "source": [
        "X_test.shape"
      ],
      "metadata": {
        "colab": {
          "base_uri": "https://localhost:8080/"
        },
        "id": "_NIQ_N-1Rjuf",
        "outputId": "0c10ff35-b546-4782-d7c3-5d5da9b41afb"
      },
      "execution_count": null,
      "outputs": [
        {
          "output_type": "execute_result",
          "data": {
            "text/plain": [
              "(3343, 8)"
            ]
          },
          "metadata": {},
          "execution_count": 242
        }
      ]
    },
    {
      "cell_type": "code",
      "source": [
        "y_pred.shape"
      ],
      "metadata": {
        "colab": {
          "base_uri": "https://localhost:8080/"
        },
        "id": "PZOBmFtoQkdv",
        "outputId": "2c53b117-94fe-4413-de55-6b02a6495b59"
      },
      "execution_count": null,
      "outputs": [
        {
          "output_type": "execute_result",
          "data": {
            "text/plain": [
              "(3343,)"
            ]
          },
          "metadata": {},
          "execution_count": 243
        }
      ]
    },
    {
      "cell_type": "markdown",
      "source": [
        "# Linear Regression"
      ],
      "metadata": {
        "id": "C2kZNdjNWqkp"
      }
    },
    {
      "cell_type": "code",
      "source": [
        "import joblib\n",
        "lr = joblib.load('linear_regression_model.pkl')"
      ],
      "metadata": {
        "id": "8twM0L__WrjN"
      },
      "execution_count": null,
      "outputs": []
    },
    {
      "cell_type": "code",
      "source": [
        "y_test_pred = lr.predict(X_test)\n",
        "\n",
        "# Calculate test metrics\n",
        "test_mse = mean_squared_error(y_test, y_test_pred)\n",
        "test_rmse = np.sqrt(test_mse)\n",
        "test_r2 = r2_score(y_test, y_test_pred)\n",
        "test_mae = mean_absolute_error(y_test, y_test_pred)\n",
        "test_mape = np.mean(np.abs((y_test - y_test_pred) / np.where(y_test != 0, y_test, 1))) * 100\n",
        "\n",
        "# Calculate tolerance-based accuracy\n",
        "tolerance = 0.1  # Adjust based on y_test.std() or domain knowledge\n",
        "test_correct = np.abs(y_test - y_test_pred) <= tolerance\n",
        "test_accuracy = np.mean(test_correct) * 100\n",
        "\n",
        "# Print test metrics\n",
        "print(\"Test Metrics (Linear Regression):\")\n",
        "print(f\"Test RMSE: {test_rmse:.4f}\")\n",
        "print(f\"Test R2 Score: {test_r2*100:.2f}%\")\n",
        "print(f\"Test MAE: {test_mae:.4f}\")\n",
        "print(f\"Test MAPE: {test_mape:.2f}%\")\n",
        "print(f\"Test Tolerance-Based Accuracy (within ±{tolerance}): {test_accuracy:.2f}%\")"
      ],
      "metadata": {
        "colab": {
          "base_uri": "https://localhost:8080/"
        },
        "id": "6E0XpDeYg4Pj",
        "outputId": "8f57effc-28b5-4fa0-bb62-1368bf269b29"
      },
      "execution_count": null,
      "outputs": [
        {
          "output_type": "stream",
          "name": "stdout",
          "text": [
            "Test Metrics (Linear Regression):\n",
            "Test RMSE: 406.9257\n",
            "Test R2 Score: 27.02%\n",
            "Test MAE: 357.5118\n",
            "Test MAPE: 3338.43%\n",
            "Test Tolerance-Based Accuracy (within ±0.1): 0.00%\n"
          ]
        }
      ]
    },
    {
      "cell_type": "markdown",
      "source": [
        "# XGBoost"
      ],
      "metadata": {
        "id": "e50YCNcVhRPJ"
      }
    },
    {
      "cell_type": "code",
      "source": [
        "import xgboost as xgb\n",
        "\n",
        "bst = xgb.Booster()\n",
        "bst.load_model('xgboost_model.json')"
      ],
      "metadata": {
        "id": "0xyJKBY5g9dE"
      },
      "execution_count": null,
      "outputs": []
    },
    {
      "cell_type": "code",
      "source": [
        "dtest = xgb.DMatrix(X_test)\n",
        "\n",
        "y_test_pred = bst.predict(dtest)\n",
        "\n",
        "test_mse = mean_squared_error(y_test, y_test_pred)\n",
        "test_rmse = np.sqrt(test_mse)\n",
        "test_r2 = r2_score(y_test, y_test_pred)\n",
        "test_mae = mean_absolute_error(y_test, y_test_pred)\n",
        "test_mape = np.mean(np.abs((y_test - y_test_pred) / np.where(y_test != 0, y_test, 1))) * 100\n",
        "\n",
        "tolerance = 0.1\n",
        "test_correct = np.abs(y_test - y_test_pred) <= tolerance\n",
        "test_accuracy = np.mean(test_correct) * 100\n",
        "\n",
        "print(\"Test Metrics (XGBoost):\")\n",
        "print(f\"Test RMSE: {test_rmse:.4f}\")\n",
        "print(f\"Test R2 Score: {test_r2*100:.2f}%\")\n",
        "print(f\"Test MAE: {test_mae:.4f}\")\n",
        "print(f\"Test MAPE: {test_mape:.2f}%\")\n",
        "print(f\"Test Tolerance-Based Accuracy (within ±{tolerance}): {test_accuracy:.2f}%\")"
      ],
      "metadata": {
        "colab": {
          "base_uri": "https://localhost:8080/"
        },
        "id": "kcXUrahUhX7f",
        "outputId": "b2e277ff-f302-4650-bc91-269673f96d53"
      },
      "execution_count": null,
      "outputs": [
        {
          "output_type": "stream",
          "name": "stdout",
          "text": [
            "Test Metrics (XGBoost):\n",
            "Test RMSE: 338.9776\n",
            "Test R2 Score: 49.36%\n",
            "Test MAE: 265.1622\n",
            "Test MAPE: 1894.61%\n",
            "Test Tolerance-Based Accuracy (within ±0.1): 0.00%\n"
          ]
        }
      ]
    },
    {
      "cell_type": "markdown",
      "source": [
        "# Decision Tree"
      ],
      "metadata": {
        "id": "TKom7_7fiXXZ"
      }
    },
    {
      "cell_type": "code",
      "source": [
        "dt = joblib.load('decision_tree_model.pkl')"
      ],
      "metadata": {
        "id": "PsHQg9zFiF3i"
      },
      "execution_count": null,
      "outputs": []
    },
    {
      "cell_type": "code",
      "source": [
        "y_test_pred = dt.predict(X_test)\n",
        "\n",
        "test_mse = mean_squared_error(y_test, y_test_pred)\n",
        "test_rmse = np.sqrt(test_mse)\n",
        "test_r2 = r2_score(y_test, y_test_pred)\n",
        "test_mae = mean_absolute_error(y_test, y_test_pred)\n",
        "test_mape = np.mean(np.abs((y_test - y_test_pred) / np.where(y_test != 0, y_test, 1))) * 100\n",
        "\n",
        "tolerance = 0.1\n",
        "test_correct = np.abs(y_test - y_test_pred) <= tolerance\n",
        "test_accuracy = np.mean(test_correct) * 100\n",
        "\n",
        "print(\"Test Metrics (Decision Tree):\")\n",
        "print(f\"Test RMSE: {test_rmse:.4f}\")\n",
        "print(f\"Test R2 Score: {test_r2*100:.2f}%\")\n",
        "print(f\"Test MAE: {test_mae:.4f}\")\n",
        "print(f\"Test MAPE: {test_mape:.2f}%\")\n",
        "print(f\"Test Tolerance-Based Accuracy (within ±{tolerance}): {test_accuracy:.2f}%\")"
      ],
      "metadata": {
        "colab": {
          "base_uri": "https://localhost:8080/"
        },
        "id": "jGg2mcSzijDX",
        "outputId": "99568805-4a3f-41af-dbdf-f86c9f2956c8"
      },
      "execution_count": null,
      "outputs": [
        {
          "output_type": "stream",
          "name": "stdout",
          "text": [
            "Test Metrics (Decision Tree):\n",
            "Test RMSE: 352.2511\n",
            "Test R2 Score: 45.32%\n",
            "Test MAE: 280.3984\n",
            "Test MAPE: 1951.46%\n",
            "Test Tolerance-Based Accuracy (within ±0.1): 0.63%\n"
          ]
        }
      ]
    },
    {
      "cell_type": "markdown",
      "source": [
        "# Random Forest"
      ],
      "metadata": {
        "id": "LGbbiiBSiybS"
      }
    },
    {
      "cell_type": "code",
      "source": [
        "rf = joblib.load('random_forest_model.pkl')"
      ],
      "metadata": {
        "id": "TtbvMiHxikvx"
      },
      "execution_count": null,
      "outputs": []
    },
    {
      "cell_type": "code",
      "source": [
        "y_test_pred = rf.predict(X_test)\n",
        "\n",
        "test_mse = mean_squared_error(y_test, y_test_pred)\n",
        "test_rmse = np.sqrt(test_mse)\n",
        "test_r2 = r2_score(y_test, y_test_pred)\n",
        "test_mae = mean_absolute_error(y_test, y_test_pred)\n",
        "test_mape = np.mean(np.abs((y_test - y_test_pred) / np.where(y_test != 0, y_test, 1))) * 100\n",
        "\n",
        "tolerance = 0.1\n",
        "test_correct = np.abs(y_test - y_test_pred) <= tolerance\n",
        "test_accuracy = np.mean(test_correct) * 100\n",
        "\n",
        "print(\"Test Metrics (Random Forest):\")\n",
        "print(f\"Test RMSE: {test_rmse:.4f}\")\n",
        "print(f\"Test R2 Score: {test_r2*100:.2f}%\")\n",
        "print(f\"Test MAE: {test_mae:.4f}\")\n",
        "print(f\"Test MAPE: {test_mape:.2f}%\")\n",
        "print(f\"Test Tolerance-Based Accuracy (within ±{tolerance}): {test_accuracy:.2f}%\")"
      ],
      "metadata": {
        "colab": {
          "base_uri": "https://localhost:8080/"
        },
        "id": "seUvakF7i7A7",
        "outputId": "06006e36-241e-41bc-d798-ab101bc9ff1d"
      },
      "execution_count": null,
      "outputs": [
        {
          "output_type": "stream",
          "name": "stdout",
          "text": [
            "Test Metrics (Random Forest):\n",
            "Test RMSE: 350.7318\n",
            "Test R2 Score: 45.79%\n",
            "Test MAE: 279.7641\n",
            "Test MAPE: 1957.82%\n",
            "Test Tolerance-Based Accuracy (within ±0.1): 0.00%\n"
          ]
        }
      ]
    },
    {
      "cell_type": "markdown",
      "source": [
        "# Gradient Boosting"
      ],
      "metadata": {
        "id": "Csh4ipVLjOJw"
      }
    },
    {
      "cell_type": "code",
      "source": [
        "gb = joblib.load('gradient_boosting_model.pkl')"
      ],
      "metadata": {
        "id": "WWCSf3D3jP0M"
      },
      "execution_count": null,
      "outputs": []
    },
    {
      "cell_type": "code",
      "source": [
        "y_test_pred = gb.predict(X_test)\n",
        "test_mse = mean_squared_error(y_test, y_test_pred)\n",
        "test_rmse = np.sqrt(test_mse)\n",
        "test_r2 = r2_score(y_test, y_test_pred)\n",
        "test_mae = mean_absolute_error(y_test, y_test_pred)\n",
        "test_mape = np.mean(np.abs((y_test - y_test_pred) / np.where(y_test != 0, y_test, 1))) * 100\n",
        "\n",
        "tolerance = 0.1\n",
        "test_correct = np.abs(y_test - y_test_pred) <= tolerance\n",
        "test_accuracy = np.mean(test_correct) * 100\n",
        "\n",
        "print(\"Test Metrics (Gradient Boosting):\")\n",
        "print(f\"Test RMSE: {test_rmse:.4f}\")\n",
        "print(f\"Test R2 Score: {test_r2*100:.2f}%\")\n",
        "print(f\"Test MAE: {test_mae:.4f}\")\n",
        "print(f\"Test MAPE: {test_mape:.2f}%\")\n",
        "print(f\"Test Tolerance-Based Accuracy (within ±{tolerance}): {test_accuracy:.2f}%\")"
      ],
      "metadata": {
        "colab": {
          "base_uri": "https://localhost:8080/"
        },
        "id": "6D8TXOoCjRaI",
        "outputId": "003a334c-5513-45be-c199-4be7c4c2e3d1"
      },
      "execution_count": null,
      "outputs": [
        {
          "output_type": "stream",
          "name": "stdout",
          "text": [
            "Test Metrics (Gradient Boosting):\n",
            "Test RMSE: 339.0520\n",
            "Test R2 Score: 49.34%\n",
            "Test MAE: 264.5468\n",
            "Test MAPE: 1866.20%\n",
            "Test Tolerance-Based Accuracy (within ±0.1): 0.03%\n"
          ]
        }
      ]
    },
    {
      "cell_type": "markdown",
      "source": [
        "# Bayesian Ridge Regression"
      ],
      "metadata": {
        "id": "46gN0FkVjXZq"
      }
    },
    {
      "cell_type": "code",
      "source": [
        "br = joblib.load('bayesian_ridge_model.pkl')"
      ],
      "metadata": {
        "id": "Wj-inkK8jT7O"
      },
      "execution_count": null,
      "outputs": []
    },
    {
      "cell_type": "code",
      "source": [
        "y_test_pred = br.predict(X_test)\n",
        "\n",
        "test_mse = mean_squared_error(y_test, y_test_pred)\n",
        "test_rmse = np.sqrt(test_mse)\n",
        "test_r2 = r2_score(y_test, y_test_pred)\n",
        "test_mae = mean_absolute_error(y_test, y_test_pred)\n",
        "test_mape = np.mean(np.abs((y_test - y_test_pred) / np.where(y_test != 0, y_test, 1))) * 100\n",
        "\n",
        "tolerance = 0.1\n",
        "test_correct = np.abs(y_test - y_test_pred) <= tolerance\n",
        "test_accuracy = np.mean(test_correct) * 100\n",
        "\n",
        "print(\"Test Metrics (Bayesian Ridge):\")\n",
        "print(f\"Test RMSE: {test_rmse:.4f}\")\n",
        "print(f\"Test R2 Score: {test_r2*100:.2f}%\")\n",
        "print(f\"Test MAE: {test_mae:.4f}\")\n",
        "print(f\"Test MAPE: {test_mape:.2f}%\")\n",
        "print(f\"Test Tolerance-Based Accuracy (within ±{tolerance}): {test_accuracy:.2f}%\")"
      ],
      "metadata": {
        "colab": {
          "base_uri": "https://localhost:8080/"
        },
        "id": "3CyMTBE_jyEX",
        "outputId": "e5768055-13a4-46ff-9a97-281a5bc74e2d"
      },
      "execution_count": null,
      "outputs": [
        {
          "output_type": "stream",
          "name": "stdout",
          "text": [
            "Test Metrics (Bayesian Ridge):\n",
            "Test RMSE: 406.9244\n",
            "Test R2 Score: 27.02%\n",
            "Test MAE: 357.5234\n",
            "Test MAPE: 3338.64%\n",
            "Test Tolerance-Based Accuracy (within ±0.1): 0.03%\n"
          ]
        }
      ]
    },
    {
      "cell_type": "markdown",
      "source": [
        "# Logisitc Regression"
      ],
      "metadata": {
        "id": "JSD14Y0LkQPb"
      }
    },
    {
      "cell_type": "code",
      "source": [
        "model = joblib.load('logistic_regression_model.pkl')"
      ],
      "metadata": {
        "id": "9DcRMuVBkRf2"
      },
      "execution_count": null,
      "outputs": []
    },
    {
      "cell_type": "code",
      "source": [
        "# Predict continuous values on test set\n",
        "y_test_pred = model.predict(X_test)\n",
        "\n",
        "# Calculate regression metrics\n",
        "test_mse = mean_squared_error(y_test, y_test_pred)\n",
        "test_rmse = np.sqrt(test_mse)\n",
        "test_r2 = r2_score(y_test, y_test_pred)\n",
        "test_mae = mean_absolute_error(y_test, y_test_pred)\n",
        "epsilon = 1e-10  # Avoid division by zero in MAPE\n",
        "test_mape = np.mean(np.abs((y_test - y_test_pred) / (np.abs(y_test) + epsilon))) * 100\n",
        "tolerance = 0.1 * (y_test.max() - y_test.min())  # Scale tolerance to target range\n",
        "test_correct = np.abs(y_test - y_test_pred) <= tolerance\n",
        "test_accuracy = np.mean(test_correct) * 100\n",
        "\n",
        "print(\"\\nTest Metrics (Linear Regression):\")\n",
        "print(f\"Test RMSE: {test_rmse:.4f}\")\n",
        "print(f\"Test R2 Score: {test_r2*100:.2f}%\")\n",
        "print(f\"Test MAE: {test_mae:.4f}\")\n",
        "print(f\"Test MAPE: {test_mape:.2f}%\")\n",
        "print(f\"Test Tolerance-Based Accuracy (within ±{tolerance:.4f}): {test_accuracy:.2f}%\")"
      ],
      "metadata": {
        "colab": {
          "base_uri": "https://localhost:8080/"
        },
        "id": "eKzfZUy8kZZE",
        "outputId": "7c3ab6ff-668a-4fbc-d646-968946d5080e"
      },
      "execution_count": null,
      "outputs": [
        {
          "output_type": "stream",
          "name": "stdout",
          "text": [
            "\n",
            "Test Metrics (Linear Regression):\n",
            "Test RMSE: 406.9257\n",
            "Test R2 Score: 27.02%\n",
            "Test MAE: 357.5118\n",
            "Test MAPE: 3338.43%\n",
            "Test Tolerance-Based Accuracy (within ±109.7500): 9.45%\n"
          ]
        }
      ]
    }
  ]
}